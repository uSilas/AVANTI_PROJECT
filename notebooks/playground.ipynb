{
 "cells": [
  {
   "cell_type": "code",
   "execution_count": 8,
   "id": "9540e798",
   "metadata": {},
   "outputs": [],
   "source": [
    "#Importando libs\n",
    "from IPython.display import display, Markdown\n",
    "import pandas as pd\n",
    "import seaborn as sns\n",
    "import numpy as np\n",
    "import matplotlib.pyplot as plt\n",
    "import sklearn\n",
    "\n",
    "colors = [\"#9467bd\", \"#057476\", \"#FF7A00\"]\n",
    "sns.set_theme(style=\"ticks\")\n",
    "sns.set_palette(sns.color_palette(colors))\n",
    "\n",
    "df = pd.read_csv('../data/raw/data.csv')\n",
    "df = pd.DataFrame(df)\n",
    "\n",
    "dictionary = pd.read_csv('../data/raw/dicionario_data.csv')\n",
    "dictionary = pd.DataFrame(dictionary)\n",
    "\n",
    "##separando colunas em variaveis por tipo\n",
    "\n",
    "qualitatives_variables = (\n",
    "    dictionary\n",
    "    .query(\"tipo == 'Qualitativo'\")\n",
    "    .variavel\n",
    "    .to_list()\n",
    ")\n",
    "\n",
    "quantitatives_variables = (\n",
    "    dictionary\n",
    "    .query(\"tipo == 'Quantitativo'\")\n",
    "    .variavel\n",
    "    .to_list()\n",
    ")\n",
    "\n"
   ]
  },
  {
   "cell_type": "markdown",
   "id": "c2a0d10e",
   "metadata": {},
   "source": [
    "VAMOS COMEÇAR A ETAPA DE TRATAMENTO DE DADOS"
   ]
  },
  {
   "cell_type": "code",
   "execution_count": 9,
   "id": "176628d4",
   "metadata": {},
   "outputs": [
    {
     "data": {
      "text/markdown": [
       "---\n",
       "PODEMOS VER QUE TEMOS UM TOTAL DE `0` DE LINHAS COM DADOS FALTANTES, ENTÃO NÃO PRECISAMOS ALTERAR NADA\n",
       "\n",
       " ---"
      ],
      "text/plain": [
       "<IPython.core.display.Markdown object>"
      ]
     },
     "metadata": {},
     "output_type": "display_data"
    }
   ],
   "source": [
    "#Verificando se há dados ausentes\n",
    "\n",
    "number_of_na_by_collumns = df.isnull().sum().loc[lambda x: x > 0]\n",
    "number_of_na_rows = df.isnull().any(axis=1).sum()\n",
    "\n",
    "\n",
    "if(number_of_na_rows == 0):\n",
    "    display(Markdown(\"---\\n\"f\"PODEMOS VER QUE TEMOS UM TOTAL DE `{number_of_na_rows}` DE LINHAS COM DADOS FALTANTES, ENTÃO NÃO PRECISAMOS ALTERAR NADA\"\"\\n\\n ---\"))\n",
    "else:\n",
    "    display(Markdown(\"---\\n\"f\"AS COLUNAS QUE ESTÃO COM DADOS FALTANTES SÃO: `{number_of_na_by_columns}` E TEMOS UM TOTAL DE `{number_of_na_rows}` LINHAS COM DADOS FALTANTES,\"\n",
    "                     f\"ENTÃO UTILIZAREMOS UM DROP PARA RETIRAR COLUNAS COM DADOS FALTANTES\"))\n",
    "    df.dropna(inplace=True)\n",
    "\n"
   ]
  }
 ],
 "metadata": {
  "kernelspec": {
   "display_name": "Python 3",
   "language": "python",
   "name": "python3"
  },
  "language_info": {
   "codemirror_mode": {
    "name": "ipython",
    "version": 3
   },
   "file_extension": ".py",
   "mimetype": "text/x-python",
   "name": "python",
   "nbconvert_exporter": "python",
   "pygments_lexer": "ipython3",
   "version": "3.11.4"
  }
 },
 "nbformat": 4,
 "nbformat_minor": 5
}
